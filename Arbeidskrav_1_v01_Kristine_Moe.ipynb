{
 "cells": [
  {
   "cell_type": "markdown",
   "id": "3e543756-9c35-4fc4-a492-3c0ad14ed8b9",
   "metadata": {
    "panel-layout": {
     "height": 113.859,
     "visible": true,
     "width": 100
    }
   },
   "source": [
    "<h1>PY1010 Arbeidskrav 1</h1>\n",
    "\n",
    "<h3>Levert 2024.11.08 av Kristine Moe</h3>\n",
    "\n",
    "<h4>Årlige kostnader for elbil vs. bensinbil + differanse</h4>\n",
    "  "
   ]
  },
  {
   "cell_type": "code",
   "execution_count": 3,
   "id": "02d242f1-5d0b-43fc-bfa3-90afac3dd7d5",
   "metadata": {},
   "outputs": [],
   "source": [
    "K = 16000  # Årlig kjørelengde [km/år]"
   ]
  },
  {
   "cell_type": "code",
   "execution_count": 4,
   "id": "78046fdf-0ab2-4ca5-b1ba-08eb326aa311",
   "metadata": {},
   "outputs": [],
   "source": [
    "FE = 5000  # Forsikring elbil [kr/år]\n",
    "FB = 7500  # Forsikring bensinbil [kr/år]"
   ]
  },
  {
   "cell_type": "code",
   "execution_count": 5,
   "id": "b55a999f-96a9-4fb0-8a72-6c4f449d4166",
   "metadata": {},
   "outputs": [],
   "source": [
    "T = 8.38  # Trafikkforsikringsavgift el- og bensinbil [kr/dag]"
   ]
  },
  {
   "cell_type": "code",
   "execution_count": 6,
   "id": "385dcda1-71de-49c1-8fa2-dabef9d64645",
   "metadata": {},
   "outputs": [],
   "source": [
    "DE = 0.2  # Drivstofforbruk elbil [kWh/km]\n",
    "S = 2  # Strømpris [kr/kWh]\n",
    "DB = 1  # Drivstofforbruk bensinbil [kr/km]"
   ]
  },
  {
   "cell_type": "code",
   "execution_count": 7,
   "id": "ef1511fa-e259-4386-a807-b68ace5c292b",
   "metadata": {},
   "outputs": [],
   "source": [
    "BE = 0.1  # Bomavgift elbil [kr/km]\n",
    "BB = 0.3  # Bomavgift bensinbil [kr/km]"
   ]
  },
  {
   "cell_type": "code",
   "execution_count": 8,
   "id": "ab39befd-af63-4554-9308-d068f4b8d468",
   "metadata": {},
   "outputs": [],
   "source": [
    "KE = FE + (T*365) + (DE*S*K) + (BE*K)  # Beregnede totale årlige kostnader for elbil"
   ]
  },
  {
   "cell_type": "code",
   "execution_count": 9,
   "id": "6495fa78-df12-4a0e-abca-a968f0ad0e9b",
   "metadata": {},
   "outputs": [],
   "source": [
    "KB = FB + (T*365) + (DB*K) + (BB*K)  # Beregnede totale årlige kostnader for bensinbil"
   ]
  },
  {
   "cell_type": "code",
   "execution_count": 10,
   "id": "36c43449-1a93-4d4f-ade2-80f0bac49009",
   "metadata": {},
   "outputs": [
    {
     "name": "stdout",
     "output_type": "stream",
     "text": [
      "Årlige kostnader elbil = kr 16058.7\n",
      "Årlige kostnader bensinbil = kr 31358.7\n",
      "Differansen er kr 15300.0\n"
     ]
    }
   ],
   "source": [
    "print('Årlige kostnader elbil = kr', KE)\n",
    "print('Årlige kostnader bensinbil = kr', KB)\n",
    "print('Differansen er kr', KB - KE)"
   ]
  },
  {
   "cell_type": "code",
   "execution_count": null,
   "id": "2e70b9d0-3a7b-43d0-857f-bda2d4dc5796",
   "metadata": {},
   "outputs": [],
   "source": []
  }
 ],
 "metadata": {
  "kernelspec": {
   "display_name": "Python 3 (ipykernel)",
   "language": "python",
   "name": "python3"
  },
  "language_info": {
   "codemirror_mode": {
    "name": "ipython",
    "version": 3
   },
   "file_extension": ".py",
   "mimetype": "text/x-python",
   "name": "python",
   "nbconvert_exporter": "python",
   "pygments_lexer": "ipython3",
   "version": "3.12.4"
  },
  "panel-cell-order": [
   "3e543756-9c35-4fc4-a492-3c0ad14ed8b9",
   "9b84eec5-1f96-41bc-9ec2-ce056f7a34ac",
   "894d5af4-2377-479a-aa4d-cad140adb1f3",
   "e43af40a-7e04-4d48-8e53-86548f1eb0e5"
  ]
 },
 "nbformat": 4,
 "nbformat_minor": 5
}
